{
 "cells": [
  {
   "cell_type": "markdown",
   "id": "ff716bec-d387-4802-9081-458a3cd8b854",
   "metadata": {},
   "source": [
    "***\n",
    "## Pipeline Shoddy\n",
    "***"
   ]
  },
  {
   "cell_type": "code",
   "execution_count": 1,
   "id": "c85b1ef9-f6e5-41fa-8eae-6c55b8fb4158",
   "metadata": {},
   "outputs": [],
   "source": [
    "import numpy as np\n",
    "import numpy.ma as ma\n",
    "import os\n",
    "import glob\n",
    "import subprocess\n",
    "import astropy.units as u\n",
    "from astropy.io import fits\n",
    "from astropy.io import ascii\n",
    "from astropy.coordinates import SkyCoord\n",
    "from astropy.wcs import WCS\n",
    "from astroquery.vizier import Vizier\n",
    "from astropy.stats import sigma_clipped_stats, sigma_clip\n",
    "from astropy.table import Table\n",
    "\n",
    "import matplotlib.pyplot as plt\n",
    "%matplotlib inline\n",
    "\n",
    "os.chdir('SN data')"
   ]
  },
  {
   "cell_type": "code",
   "execution_count": 2,
   "id": "c291451e-224f-4c44-9206-bb3973fba4b0",
   "metadata": {},
   "outputs": [
    {
     "name": "stdout",
     "output_type": "stream",
     "text": [
      "/Users/kushagra/Documents/All study material/Hubble, Analysis!/Krittika Workshop NBs/photometry/SN data\n"
     ]
    }
   ],
   "source": [
    "!pwd"
   ]
  },
  {
   "cell_type": "code",
   "execution_count": 3,
   "id": "ed51d22f-af49-4632-82f8-1b0ff21f2061",
   "metadata": {},
   "outputs": [],
   "source": [
    "def load_image(path):\n",
    "    \"\"\"\n",
    "        Returns primaryHDU data, header and filename of FITS format image.\n",
    "        Takes and Image object or a filepath as parameter.\n",
    "    \"\"\"\n",
    "    if not os.path.isfile(path):\n",
    "        raise Exception(\"Not a valid file path\")\n",
    "        \n",
    "    f = fits.open(path)\n",
    "\n",
    "    data = f[0].data       #This is the primary HDU image array\n",
    "    header = f[0].header\n",
    "    f.close()\n",
    "\n",
    "    path_split = path.split('/')  # To get the image filename\n",
    "    imageName = path_split[-1]\n",
    "    \n",
    "    #imageName = path\n",
    "    \n",
    "    return[data, header, imageName]"
   ]
  },
  {
   "cell_type": "code",
   "execution_count": 19,
   "id": "6ee54af7-6af4-4206-86d3-77d1a4aaf92c",
   "metadata": {},
   "outputs": [],
   "source": [
    "def query_vizier(data, header):\n",
    "    w = WCS(header)\n",
    "\n",
    "    [raImage, decImage] = w.all_pix2world(data.shape[0]/2, data.shape[1]/2, 1)  #Get the RA and Dec of the center of the image\n",
    "\n",
    "    boxsize = 30 # arcminutes          #Set the box size to search for catalog stars\n",
    "\n",
    "    maxmag = 18                        #Magnitude cut-offs of sources to be cross-matched against\n",
    "    \n",
    "    Vizier.VIZIER_SERVER = 'vizier.ast.cam.ac.uk'\n",
    "\n",
    "    catNum = 'II/349'#This is the catalog number of PS1 in Vizier\n",
    "    print('\\nQuerying Vizier %s around RA %.4f, Dec %.4f with a radius of %.4f arcmin'%(catNum, raImage, decImage, boxsize))\n",
    "\n",
    "    try:\n",
    "        #You can set the filters for the individual columns (magnitude range, number of detections) inside the Vizier query\n",
    "        v = Vizier(columns=['*'], column_filters={\"rmag\":\"<%.2f\"%maxmag, \"Nd\":\">6\", \"e_Rmag\":\"<1.086/3\"}, row_limit=-1)\n",
    "        Q = v.query_region(SkyCoord(ra = raImage, dec = decImage, unit = (u.deg, u.deg)), radius = str(boxsize)+'m', catalog=catNum, cache=False)\n",
    "        #query vizier around (ra, dec) with a radius of boxsize\n",
    "        #print(Q[0])\n",
    "    except:\n",
    "        print('I cannnot reach the Vizier database. Is the internet working?')\n",
    "        \n",
    "    ps1_imCoords = w.all_world2pix(Q[0]['RAJ2000'], Q[0]['DEJ2000'], 1)\n",
    "\n",
    "    #Another round of filtering where we reject sources close to the edges\n",
    "    good_cat_stars = Q[0][np.where((ps1_imCoords[0] > 500) & (ps1_imCoords[0] < 3500) & (ps1_imCoords[1] > 500) & (ps1_imCoords[1] < 3500))]\n",
    "    ###print(good_cat_stars)\n",
    "    \n",
    "    return good_cat_stars"
   ]
  },
  {
   "cell_type": "code",
   "execution_count": 5,
   "id": "3d2c80cb-93fa-4367-91ca-25d563ddb804",
   "metadata": {},
   "outputs": [],
   "source": [
    "def run_sextractor(imageName):\n",
    "    configFile = 'photomCat.sex'\n",
    "    catalogName = imageName+'.cat'\n",
    "    paramName = 'photomCat.param'\n",
    "    try:\n",
    "        command = 'sex -c %s %s -CATALOG_NAME %s -PARAMETERS_NAME %s' % (configFile, imageName, catalogName, paramName)\n",
    "        print('Executing command: %s' % command)\n",
    "        rval = subprocess.run(command.split(), check=True)\n",
    "    except subprocess.CalledProcessError as err:\n",
    "        print('Could not run sextractor with exit error %s'%err)\n",
    "        \n",
    "    return catalogName"
   ]
  },
  {
   "cell_type": "code",
   "execution_count": 6,
   "id": "d5c6a5fb-6551-4a43-bd6b-e6ab1163de0c",
   "metadata": {},
   "outputs": [],
   "source": [
    "def get_table_from_ldac(filename, frame=1):\n",
    "    \"\"\"\n",
    "    Load an astropy table from a fits_ldac by frame (Since the ldac format has column \n",
    "    info for odd tables, giving it twce as many tables as a regular fits BinTableHDU,\n",
    "    match the frame of a table to its corresponding frame in the ldac file).\n",
    "    \n",
    "    Parameters\n",
    "    ----------\n",
    "    filename: str\n",
    "        Name of the file to open\n",
    "    frame: int\n",
    "        Number of the frame in a regular fits file\n",
    "    \"\"\"\n",
    "    from astropy.table import Table\n",
    "    if frame>0:\n",
    "        frame = frame*2\n",
    "    tbl = Table.read(filename, hdu=frame)\n",
    "    return tbl"
   ]
  },
  {
   "cell_type": "code",
   "execution_count": 7,
   "id": "4feaef3c-9ddb-4a80-91ab-5fee9320f919",
   "metadata": {},
   "outputs": [],
   "source": [
    "#sourceTable = get_table_from_ldac(catalogName)\n",
    "#cleanSources = sourceTable[(sourceTable['FLAGS']==0) & (sourceTable['FWHM_WORLD'] < 2) & (sourceTable['XWIN_IMAGE']<3500) & (sourceTable['XWIN_IMAGE']>500) &(sourceTable['YWIN_IMAGE']<3500) &(sourceTable['YWIN_IMAGE']>500)]"
   ]
  },
  {
   "cell_type": "code",
   "execution_count": 8,
   "id": "da20d5ac-37ca-465e-afa1-baa70af86b20",
   "metadata": {},
   "outputs": [],
   "source": [
    "def run_psfex(imageName):\n",
    "    psfConfigFile = 'psfex_conf.psfex'\n",
    "    catalogName = imageName+'.cat'\n",
    "    try:\n",
    "        command = 'psfex -c %s %s' % (psfConfigFile, catalogName)\n",
    "        print('Executing command: %s' % command)\n",
    "        rval = subprocess.run(command.split(), check=True)\n",
    "    except subprocess.CalledProcessError as err:\n",
    "        print('Could not run psfex with exit error %s'%err)\n",
    "        \n",
    "    configFile = 'photomCat.sex'\n",
    "    psfName = imageName + '.psf'\n",
    "    psfcatalogName = imageName+'.psf.cat'\n",
    "    psfparamName = 'photomPSF.param' #This is a new set of parameters to be obtained from SExtractor, including PSF-fit magnitudes\n",
    "    try:\n",
    "        #We are supplying SExtactor with the PSF model with the PSF_NAME option\n",
    "        command = 'sex -c %s %s -CATALOG_NAME %s -PSF_NAME %s -PARAMETERS_NAME %s' % (configFile, imageName, psfcatalogName, psfName, psfparamName)\n",
    "        print(\"Executing command: %s\" % command)\n",
    "        rval = subprocess.run(command.split(), check=True)\n",
    "    except subprocess.CalledProcessError as err:\n",
    "        print('Could not run sextractor with exit error %s'%err)\n",
    "        \n",
    "    return psfcatalogName"
   ]
  },
  {
   "cell_type": "code",
   "execution_count": 9,
   "id": "e1b1ae15-7d67-48cd-8834-3b2ff509dc16",
   "metadata": {},
   "outputs": [],
   "source": [
    "def cross_match(cleanPSFSources, good_cat_stars):\n",
    "    psfsourceCatCoords = SkyCoord(ra=cleanPSFSources['ALPHAWIN_J2000'], dec=cleanPSFSources['DELTAWIN_J2000'], frame='icrs', unit='degree')\n",
    "    ps1CatCoords = SkyCoord(ra=good_cat_stars['RAJ2000'], dec=good_cat_stars['DEJ2000'], frame='icrs', unit='degree')\n",
    "\n",
    "    #Now cross match sources\n",
    "\n",
    "    #Set the cross-match distance threshold to 2.1 arcsec\n",
    "    photoDistThresh = 2.1\n",
    "    idx_psfimage, idx_psfps1, d2d, d3d = ps1CatCoords.search_around_sky(psfsourceCatCoords, photoDistThresh*u.arcsec)\n",
    "    #idx_image are indexes into sourceCatCoords for the matched sources, while idx_ps1 are indexes into ps1CatCoords for the matched sources\n",
    "\n",
    "    num_of_matches = len(idx_psfimage)\n",
    "    \n",
    "    print(f'Found {num_of_matches} good matches')\n",
    "    \n",
    "    return idx_psfimage, idx_psfps1, num_of_matches, psfsourceCatCoords"
   ]
  },
  {
   "cell_type": "code",
   "execution_count": 10,
   "id": "7905f23d-542f-4509-9e44-9b837f470bf3",
   "metadata": {},
   "outputs": [],
   "source": [
    "#psfsourceTable = get_table_from_ldac(psfcatalogName)\n",
    "#cleanPSFSources = psfsourceTable[(psfsourceTable['FLAGS']==0) & (psfsourceTable['FLAGS_MODEL']==0)  & (psfsourceTable['FWHM_WORLD'] < 2) & (psfsourceTable['XMODEL_IMAGE']<3500) & (psfsourceTable['XMODEL_IMAGE']>500) &(psfsourceTable['YMODEL_IMAGE']<3500) &(psfsourceTable['YMODEL_IMAGE']>500)]"
   ]
  },
  {
   "cell_type": "code",
   "execution_count": 25,
   "id": "5c87884d-ec0c-4a6d-bd81-22b90c04c62e",
   "metadata": {},
   "outputs": [],
   "source": [
    "def correct_for_zp(ra, dec, good_cat_stars, cleanPSFSources, psfsourceCatCoords, idx_psfps1, idx_psfimage):\n",
    "    psfoffsets = ma.array(good_cat_stars['rmag'][idx_psfps1] - cleanPSFSources['MAG_POINTSOURCE'][idx_psfimage])\n",
    "    #Compute sigma clipped statistics\n",
    "    zero_psfmean, zero_psfmed, zero_psfstd = sigma_clipped_stats(psfoffsets)\n",
    "    \n",
    "    photoDistThresh = 2.1\n",
    "    \n",
    "    source_coords = SkyCoord(ra=[ra], dec=[dec], frame='icrs', unit='degree')\n",
    "    idx_source, idx_cleanpsf_source, d2d, d3d = psfsourceCatCoords.search_around_sky(source_coords, photoDistThresh*u.arcsec)\n",
    "    #try:\n",
    "    print(cleanPSFSources.colnames)\n",
    "    \n",
    "    source_psfinstmag = cleanPSFSources[idx_cleanpsf_source]['MAG_POINTSOURCE'][0]\n",
    "    source_psfinstmagerr = cleanPSFSources[idx_cleanpsf_source]['MAGERR_POINTSOURCE'][0]\n",
    "#     source_psfinstmag = cleanPSFSources[idx_cleanpsf_source]['MAG_POINTSOURCE']\n",
    "#     source_psfinstmagerr = cleanPSFSources[idx_cleanpsf_source]['MAGERR_POINTSOURCE']\n",
    "\n",
    "    source_psfmag = zero_psfmed + source_psfinstmag\n",
    "    source_psfmagerr = np.sqrt(source_psfinstmagerr**2 + zero_psfstd**2)\n",
    "#     except:\n",
    "#         source_psfmag = 0\n",
    "#         source_psfmagerr = 0\n",
    "        \n",
    "    return [source_psfmag, source_psfmagerr]"
   ]
  },
  {
   "cell_type": "code",
   "execution_count": 35,
   "id": "7aff8c20-f8aa-4fa1-a7c8-78cbda921019",
   "metadata": {},
   "outputs": [],
   "source": [
    "def main():\n",
    "    nbpath = '/Users/kushagra/Documents/All study material/Hubble, Analysis!/Krittika Workshop NBs/photometry'\n",
    "    #datapath = '/Users/kushagra/Documents/All\\ study\\ material/Hubble,\\ Analysis!/Krittika\\ Workshop\\ NBs/photometry/SN\\ data'\n",
    "    datapath = '/Users/kushagra/Documents/All study material/Hubble, Analysis!/Krittika Workshop NBs/photometry/SN data'\n",
    "    \n",
    "    ra = 186.55127146   ###186.55#0292\n",
    "    dec = 58.31425894    ###58.31#4119\n",
    "    \n",
    "    #JD_and_mags = np.zeros( (len(path_list),3) )\n",
    "    JD_and_mags = []\n",
    "    \n",
    "    path_list = []\n",
    "\n",
    "    patterns = ['2019','r']\n",
    "    for pattern in patterns:\n",
    "        if pattern is None: pattern = ''   # Even if we're not given a pattern, we search in directory for fits files\n",
    "        #path_list.extend(glob.glob(os.path.join(datapath, pattern+'*proc.fits')))\n",
    "        path_list.extend(glob.glob(os.path.join(pattern+'*proc.fits')))\n",
    "    #path_list.extend(glob.glob(os.path.join('20190227161006-319-RA.wcs.proc.fits')))\n",
    "    #path_list.extend(glob.glob(os.path.join('20190307162138-863-RA.wcs.proc.fits')))\n",
    "    #print(path_list)\n",
    "        \n",
    "    for path in path_list:\n",
    "        print(f'Assessing {path}\\n\\n')\n",
    "        data, header, imageName = load_image(path)\n",
    "\n",
    "        good_cat_stars = query_vizier(data, header)\n",
    "\n",
    "        catalogName = run_sextractor(imageName)\n",
    "\n",
    "        psfcatalogName = run_psfex(imageName)\n",
    "\n",
    "        sourceTable = get_table_from_ldac(catalogName)\n",
    "        cleanSources = sourceTable[(sourceTable['FLAGS']==0) & (sourceTable['FWHM_WORLD'] < 2) & (sourceTable['XWIN_IMAGE']<3500) & (sourceTable['XWIN_IMAGE']>500) &(sourceTable['YWIN_IMAGE']<3500) &(sourceTable['YWIN_IMAGE']>500)]\n",
    "        psfsourceTable = get_table_from_ldac(psfcatalogName)\n",
    "        cleanPSFSources = psfsourceTable[(psfsourceTable['FLAGS']==0) & (psfsourceTable['FLAGS_MODEL']==0)  & (psfsourceTable['FWHM_WORLD'] < 2) & (psfsourceTable['XMODEL_IMAGE']<3500) & (psfsourceTable['XMODEL_IMAGE']>500) &(psfsourceTable['YMODEL_IMAGE']<3500) &(psfsourceTable['YMODEL_IMAGE']>500)]\n",
    "\n",
    "        idx_psfimage, idx_psfps1, num_of_matches, psfsourceCatCoords = cross_match(cleanPSFSources, good_cat_stars)\n",
    "\n",
    "        source_psfmag, source_psfmagerr = correct_for_zp(ra, dec, good_cat_stars, cleanPSFSources, psfsourceCatCoords, idx_psfps1, idx_psfimage)\n",
    "        \n",
    "        image_data = [header['JD'], source_psfmag, source_psfmagerr]\n",
    "        \n",
    "        JD_and_mags.append(image_data)\n",
    "        \n",
    "    return JD_and_mags"
   ]
  },
  {
   "cell_type": "code",
   "execution_count": 36,
   "id": "eb09328e-0e1e-4957-b5b3-bc4c6c868b01",
   "metadata": {},
   "outputs": [
    {
     "name": "stdout",
     "output_type": "stream",
     "text": [
      "['20190227161006-319-RA.wcs.proc.fits', '20190307162138-863-RA.wcs.proc.fits', '20190312183410-499-RA.wcs.proc.fits', '20190313145140-894-RA.wcs.proc.fits', 'r_band_20190212155954-376-RA.wcs.proc.fits']\n",
      "Assessing 20190227161006-319-RA.wcs.proc.fits\n",
      "\n",
      "\n",
      "\n",
      "Querying Vizier II/349 around RA 186.3046, Dec 58.4168 with a radius of 30.0000 arcmin\n",
      "Executing command: sex -c photomCat.sex 20190227161006-319-RA.wcs.proc.fits -CATALOG_NAME 20190227161006-319-RA.wcs.proc.fits.cat -PARAMETERS_NAME photomCat.param\n",
      "Executing command: psfex -c psfex_conf.psfex 20190227161006-319-RA.wcs.proc.fits.cat\n",
      "Executing command: sex -c photomCat.sex 20190227161006-319-RA.wcs.proc.fits -CATALOG_NAME 20190227161006-319-RA.wcs.proc.fits.psf.cat -PSF_NAME 20190227161006-319-RA.wcs.proc.fits.psf -PARAMETERS_NAME photomPSF.param\n",
      "Found 30 good matches\n",
      "['VIGNET', 'X_IMAGE', 'Y_IMAGE', 'XWIN_IMAGE', 'YWIN_IMAGE', 'ERRAWIN_IMAGE', 'ERRBWIN_IMAGE', 'ALPHAWIN_J2000', 'DELTAWIN_J2000', 'FLUX_RADIUS', 'FWHM_WORLD', 'FLUX_AUTO', 'FLUXERR_AUTO', 'SNR_WIN', 'ELONGATION', 'FLUX_MAX', 'MAG_AUTO', 'MAGERR_AUTO', 'FLAGS', 'BACKGROUND', 'CLASS_STAR', 'FLAGS_MODEL', 'NITER_MODEL', 'XMODEL_IMAGE', 'YMODEL_IMAGE', 'FLUX_POINTSOURCE', 'FLUXERR_POINTSOURCE', 'MAG_POINTSOURCE', 'MAGERR_POINTSOURCE', 'FLUXRATIO_POINTSOURCE', 'FLUXRATIOERR_POINTSOURCE']\n",
      "Assessing 20190307162138-863-RA.wcs.proc.fits\n",
      "\n",
      "\n",
      "\n",
      "Querying Vizier II/349 around RA 186.2868, Dec 58.4165 with a radius of 30.0000 arcmin\n"
     ]
    },
    {
     "name": "stderr",
     "output_type": "stream",
     "text": [
      "/anaconda3/envs/Astro/lib/python3.7/site-packages/numpy/core/fromnumeric.py:753: UserWarning: Warning: 'partition' will ignore the 'mask' of the MaskedArray.\n",
      "  a.partition(kth, axis=axis, kind=kind, order=order)\n",
      "/anaconda3/envs/Astro/lib/python3.7/site-packages/numpy/core/fromnumeric.py:753: UserWarning: Warning: 'partition' will ignore the 'mask' of the MaskedArray.\n",
      "  a.partition(kth, axis=axis, kind=kind, order=order)\n",
      "/anaconda3/envs/Astro/lib/python3.7/site-packages/numpy/core/fromnumeric.py:753: UserWarning: Warning: 'partition' will ignore the 'mask' of the MaskedArray.\n",
      "  a.partition(kth, axis=axis, kind=kind, order=order)\n"
     ]
    },
    {
     "name": "stdout",
     "output_type": "stream",
     "text": [
      "Executing command: sex -c photomCat.sex 20190307162138-863-RA.wcs.proc.fits -CATALOG_NAME 20190307162138-863-RA.wcs.proc.fits.cat -PARAMETERS_NAME photomCat.param\n",
      "Executing command: psfex -c psfex_conf.psfex 20190307162138-863-RA.wcs.proc.fits.cat\n",
      "Executing command: sex -c photomCat.sex 20190307162138-863-RA.wcs.proc.fits -CATALOG_NAME 20190307162138-863-RA.wcs.proc.fits.psf.cat -PSF_NAME 20190307162138-863-RA.wcs.proc.fits.psf -PARAMETERS_NAME photomPSF.param\n",
      "Found 231 good matches\n",
      "['VIGNET', 'X_IMAGE', 'Y_IMAGE', 'XWIN_IMAGE', 'YWIN_IMAGE', 'ERRAWIN_IMAGE', 'ERRBWIN_IMAGE', 'ALPHAWIN_J2000', 'DELTAWIN_J2000', 'FLUX_RADIUS', 'FWHM_WORLD', 'FLUX_AUTO', 'FLUXERR_AUTO', 'SNR_WIN', 'ELONGATION', 'FLUX_MAX', 'MAG_AUTO', 'MAGERR_AUTO', 'FLAGS', 'BACKGROUND', 'CLASS_STAR', 'FLAGS_MODEL', 'NITER_MODEL', 'XMODEL_IMAGE', 'YMODEL_IMAGE', 'FLUX_POINTSOURCE', 'FLUXERR_POINTSOURCE', 'MAG_POINTSOURCE', 'MAGERR_POINTSOURCE', 'FLUXRATIO_POINTSOURCE', 'FLUXRATIOERR_POINTSOURCE']\n",
      "Assessing 20190312183410-499-RA.wcs.proc.fits\n",
      "\n",
      "\n",
      "\n",
      "Querying Vizier II/349 around RA 186.3084, Dec 58.4115 with a radius of 30.0000 arcmin\n"
     ]
    },
    {
     "name": "stderr",
     "output_type": "stream",
     "text": [
      "/anaconda3/envs/Astro/lib/python3.7/site-packages/numpy/core/fromnumeric.py:753: UserWarning: Warning: 'partition' will ignore the 'mask' of the MaskedArray.\n",
      "  a.partition(kth, axis=axis, kind=kind, order=order)\n",
      "/anaconda3/envs/Astro/lib/python3.7/site-packages/numpy/core/fromnumeric.py:753: UserWarning: Warning: 'partition' will ignore the 'mask' of the MaskedArray.\n",
      "  a.partition(kth, axis=axis, kind=kind, order=order)\n",
      "/anaconda3/envs/Astro/lib/python3.7/site-packages/numpy/core/fromnumeric.py:753: UserWarning: Warning: 'partition' will ignore the 'mask' of the MaskedArray.\n",
      "  a.partition(kth, axis=axis, kind=kind, order=order)\n",
      "/anaconda3/envs/Astro/lib/python3.7/site-packages/numpy/core/fromnumeric.py:753: UserWarning: Warning: 'partition' will ignore the 'mask' of the MaskedArray.\n",
      "  a.partition(kth, axis=axis, kind=kind, order=order)\n",
      "/anaconda3/envs/Astro/lib/python3.7/site-packages/numpy/core/fromnumeric.py:753: UserWarning: Warning: 'partition' will ignore the 'mask' of the MaskedArray.\n",
      "  a.partition(kth, axis=axis, kind=kind, order=order)\n",
      "/anaconda3/envs/Astro/lib/python3.7/site-packages/numpy/core/fromnumeric.py:753: UserWarning: Warning: 'partition' will ignore the 'mask' of the MaskedArray.\n",
      "  a.partition(kth, axis=axis, kind=kind, order=order)\n"
     ]
    },
    {
     "name": "stdout",
     "output_type": "stream",
     "text": [
      "Executing command: sex -c photomCat.sex 20190312183410-499-RA.wcs.proc.fits -CATALOG_NAME 20190312183410-499-RA.wcs.proc.fits.cat -PARAMETERS_NAME photomCat.param\n",
      "Executing command: psfex -c psfex_conf.psfex 20190312183410-499-RA.wcs.proc.fits.cat\n",
      "Executing command: sex -c photomCat.sex 20190312183410-499-RA.wcs.proc.fits -CATALOG_NAME 20190312183410-499-RA.wcs.proc.fits.psf.cat -PSF_NAME 20190312183410-499-RA.wcs.proc.fits.psf -PARAMETERS_NAME photomPSF.param\n",
      "Found 220 good matches\n",
      "['VIGNET', 'X_IMAGE', 'Y_IMAGE', 'XWIN_IMAGE', 'YWIN_IMAGE', 'ERRAWIN_IMAGE', 'ERRBWIN_IMAGE', 'ALPHAWIN_J2000', 'DELTAWIN_J2000', 'FLUX_RADIUS', 'FWHM_WORLD', 'FLUX_AUTO', 'FLUXERR_AUTO', 'SNR_WIN', 'ELONGATION', 'FLUX_MAX', 'MAG_AUTO', 'MAGERR_AUTO', 'FLAGS', 'BACKGROUND', 'CLASS_STAR', 'FLAGS_MODEL', 'NITER_MODEL', 'XMODEL_IMAGE', 'YMODEL_IMAGE', 'FLUX_POINTSOURCE', 'FLUXERR_POINTSOURCE', 'MAG_POINTSOURCE', 'MAGERR_POINTSOURCE', 'FLUXRATIO_POINTSOURCE', 'FLUXRATIOERR_POINTSOURCE']\n",
      "Assessing 20190313145140-894-RA.wcs.proc.fits\n",
      "\n",
      "\n",
      "\n",
      "Querying Vizier II/349 around RA 186.2953, Dec 58.4168 with a radius of 30.0000 arcmin\n"
     ]
    },
    {
     "name": "stderr",
     "output_type": "stream",
     "text": [
      "/anaconda3/envs/Astro/lib/python3.7/site-packages/numpy/core/fromnumeric.py:753: UserWarning: Warning: 'partition' will ignore the 'mask' of the MaskedArray.\n",
      "  a.partition(kth, axis=axis, kind=kind, order=order)\n",
      "/anaconda3/envs/Astro/lib/python3.7/site-packages/numpy/core/fromnumeric.py:753: UserWarning: Warning: 'partition' will ignore the 'mask' of the MaskedArray.\n",
      "  a.partition(kth, axis=axis, kind=kind, order=order)\n",
      "/anaconda3/envs/Astro/lib/python3.7/site-packages/numpy/core/fromnumeric.py:753: UserWarning: Warning: 'partition' will ignore the 'mask' of the MaskedArray.\n",
      "  a.partition(kth, axis=axis, kind=kind, order=order)\n",
      "/anaconda3/envs/Astro/lib/python3.7/site-packages/numpy/core/fromnumeric.py:753: UserWarning: Warning: 'partition' will ignore the 'mask' of the MaskedArray.\n",
      "  a.partition(kth, axis=axis, kind=kind, order=order)\n",
      "/anaconda3/envs/Astro/lib/python3.7/site-packages/numpy/core/fromnumeric.py:753: UserWarning: Warning: 'partition' will ignore the 'mask' of the MaskedArray.\n",
      "  a.partition(kth, axis=axis, kind=kind, order=order)\n",
      "/anaconda3/envs/Astro/lib/python3.7/site-packages/numpy/core/fromnumeric.py:753: UserWarning: Warning: 'partition' will ignore the 'mask' of the MaskedArray.\n",
      "  a.partition(kth, axis=axis, kind=kind, order=order)\n"
     ]
    },
    {
     "name": "stdout",
     "output_type": "stream",
     "text": [
      "Executing command: sex -c photomCat.sex 20190313145140-894-RA.wcs.proc.fits -CATALOG_NAME 20190313145140-894-RA.wcs.proc.fits.cat -PARAMETERS_NAME photomCat.param\n",
      "Executing command: psfex -c psfex_conf.psfex 20190313145140-894-RA.wcs.proc.fits.cat\n",
      "Executing command: sex -c photomCat.sex 20190313145140-894-RA.wcs.proc.fits -CATALOG_NAME 20190313145140-894-RA.wcs.proc.fits.psf.cat -PSF_NAME 20190313145140-894-RA.wcs.proc.fits.psf -PARAMETERS_NAME photomPSF.param\n",
      "Found 243 good matches\n",
      "['VIGNET', 'X_IMAGE', 'Y_IMAGE', 'XWIN_IMAGE', 'YWIN_IMAGE', 'ERRAWIN_IMAGE', 'ERRBWIN_IMAGE', 'ALPHAWIN_J2000', 'DELTAWIN_J2000', 'FLUX_RADIUS', 'FWHM_WORLD', 'FLUX_AUTO', 'FLUXERR_AUTO', 'SNR_WIN', 'ELONGATION', 'FLUX_MAX', 'MAG_AUTO', 'MAGERR_AUTO', 'FLAGS', 'BACKGROUND', 'CLASS_STAR', 'FLAGS_MODEL', 'NITER_MODEL', 'XMODEL_IMAGE', 'YMODEL_IMAGE', 'FLUX_POINTSOURCE', 'FLUXERR_POINTSOURCE', 'MAG_POINTSOURCE', 'MAGERR_POINTSOURCE', 'FLUXRATIO_POINTSOURCE', 'FLUXRATIOERR_POINTSOURCE']\n",
      "Assessing r_band_20190212155954-376-RA.wcs.proc.fits\n",
      "\n",
      "\n",
      "\n",
      "Querying Vizier II/349 around RA 186.2491, Dec 58.4200 with a radius of 30.0000 arcmin\n"
     ]
    },
    {
     "name": "stderr",
     "output_type": "stream",
     "text": [
      "/anaconda3/envs/Astro/lib/python3.7/site-packages/numpy/core/fromnumeric.py:753: UserWarning: Warning: 'partition' will ignore the 'mask' of the MaskedArray.\n",
      "  a.partition(kth, axis=axis, kind=kind, order=order)\n",
      "/anaconda3/envs/Astro/lib/python3.7/site-packages/numpy/core/fromnumeric.py:753: UserWarning: Warning: 'partition' will ignore the 'mask' of the MaskedArray.\n",
      "  a.partition(kth, axis=axis, kind=kind, order=order)\n",
      "/anaconda3/envs/Astro/lib/python3.7/site-packages/numpy/core/fromnumeric.py:753: UserWarning: Warning: 'partition' will ignore the 'mask' of the MaskedArray.\n",
      "  a.partition(kth, axis=axis, kind=kind, order=order)\n",
      "/anaconda3/envs/Astro/lib/python3.7/site-packages/numpy/core/fromnumeric.py:753: UserWarning: Warning: 'partition' will ignore the 'mask' of the MaskedArray.\n",
      "  a.partition(kth, axis=axis, kind=kind, order=order)\n",
      "/anaconda3/envs/Astro/lib/python3.7/site-packages/numpy/core/fromnumeric.py:753: UserWarning: Warning: 'partition' will ignore the 'mask' of the MaskedArray.\n",
      "  a.partition(kth, axis=axis, kind=kind, order=order)\n",
      "/anaconda3/envs/Astro/lib/python3.7/site-packages/numpy/core/fromnumeric.py:753: UserWarning: Warning: 'partition' will ignore the 'mask' of the MaskedArray.\n",
      "  a.partition(kth, axis=axis, kind=kind, order=order)\n"
     ]
    },
    {
     "name": "stdout",
     "output_type": "stream",
     "text": [
      "Executing command: sex -c photomCat.sex r_band_20190212155954-376-RA.wcs.proc.fits -CATALOG_NAME r_band_20190212155954-376-RA.wcs.proc.fits.cat -PARAMETERS_NAME photomCat.param\n",
      "Executing command: psfex -c psfex_conf.psfex r_band_20190212155954-376-RA.wcs.proc.fits.cat\n",
      "Executing command: sex -c photomCat.sex r_band_20190212155954-376-RA.wcs.proc.fits -CATALOG_NAME r_band_20190212155954-376-RA.wcs.proc.fits.psf.cat -PSF_NAME r_band_20190212155954-376-RA.wcs.proc.fits.psf -PARAMETERS_NAME photomPSF.param\n",
      "Found 74 good matches\n",
      "['VIGNET', 'X_IMAGE', 'Y_IMAGE', 'XWIN_IMAGE', 'YWIN_IMAGE', 'ERRAWIN_IMAGE', 'ERRBWIN_IMAGE', 'ALPHAWIN_J2000', 'DELTAWIN_J2000', 'FLUX_RADIUS', 'FWHM_WORLD', 'FLUX_AUTO', 'FLUXERR_AUTO', 'SNR_WIN', 'ELONGATION', 'FLUX_MAX', 'MAG_AUTO', 'MAGERR_AUTO', 'FLAGS', 'BACKGROUND', 'CLASS_STAR', 'FLAGS_MODEL', 'NITER_MODEL', 'XMODEL_IMAGE', 'YMODEL_IMAGE', 'FLUX_POINTSOURCE', 'FLUXERR_POINTSOURCE', 'MAG_POINTSOURCE', 'MAGERR_POINTSOURCE', 'FLUXRATIO_POINTSOURCE', 'FLUXRATIOERR_POINTSOURCE']\n"
     ]
    },
    {
     "name": "stderr",
     "output_type": "stream",
     "text": [
      "/anaconda3/envs/Astro/lib/python3.7/site-packages/numpy/core/fromnumeric.py:753: UserWarning: Warning: 'partition' will ignore the 'mask' of the MaskedArray.\n",
      "  a.partition(kth, axis=axis, kind=kind, order=order)\n",
      "/anaconda3/envs/Astro/lib/python3.7/site-packages/numpy/core/fromnumeric.py:753: UserWarning: Warning: 'partition' will ignore the 'mask' of the MaskedArray.\n",
      "  a.partition(kth, axis=axis, kind=kind, order=order)\n",
      "/anaconda3/envs/Astro/lib/python3.7/site-packages/numpy/core/fromnumeric.py:753: UserWarning: Warning: 'partition' will ignore the 'mask' of the MaskedArray.\n",
      "  a.partition(kth, axis=axis, kind=kind, order=order)\n"
     ]
    }
   ],
   "source": [
    "JD_and_mags = main()"
   ]
  },
  {
   "cell_type": "code",
   "execution_count": 37,
   "id": "d4f6373b-9e2b-47d0-85a5-c626d0ff7d02",
   "metadata": {},
   "outputs": [
    {
     "data": {
      "text/plain": [
       "[[2458542.17367477, 15.260371757507325, 0.10200960263506523],\n",
       " [2458550.18169471, 15.500420341491697, 0.23503664102626431],\n",
       " [2458555.27372752, 15.391416160583496, 0.06086434243835061],\n",
       " [2458556.11921799, 15.39814130706787, 0.06614714361829581],\n",
       " [2458527.16659628, 15.084998902130128, 0.13455950442294484]]"
      ]
     },
     "execution_count": 37,
     "metadata": {},
     "output_type": "execute_result"
    }
   ],
   "source": [
    "JD_and_mags"
   ]
  },
  {
   "cell_type": "code",
   "execution_count": 42,
   "id": "ea201460-f13c-46dc-b820-c7fca5f585c1",
   "metadata": {},
   "outputs": [],
   "source": [
    "np.savetxt(\"2018hna_mags.csv\", JD_and_mags, delimiter=\",\", header='JD, Mag, Mag_Error')"
   ]
  },
  {
   "cell_type": "code",
   "execution_count": null,
   "id": "d53a0c5e-92fc-4f7c-89dc-0722abcd6a28",
   "metadata": {},
   "outputs": [],
   "source": []
  }
 ],
 "metadata": {
  "kernelspec": {
   "display_name": "Python 3",
   "language": "python",
   "name": "python3"
  },
  "language_info": {
   "codemirror_mode": {
    "name": "ipython",
    "version": 3
   },
   "file_extension": ".py",
   "mimetype": "text/x-python",
   "name": "python",
   "nbconvert_exporter": "python",
   "pygments_lexer": "ipython3",
   "version": "3.7.10"
  }
 },
 "nbformat": 4,
 "nbformat_minor": 5
}
